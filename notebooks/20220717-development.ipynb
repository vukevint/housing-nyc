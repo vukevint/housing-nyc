{
 "cells": [
  {
   "cell_type": "code",
   "execution_count": 1,
   "id": "eecba2a1-db74-44be-a6a1-209bdfaab37f",
   "metadata": {
    "tags": []
   },
   "outputs": [
    {
     "name": "stdout",
     "output_type": "stream",
     "text": [
      "/Users/kevinvu/Root/Projects/housing-nyc\n"
     ]
    }
   ],
   "source": [
    "# Run magic commands first\n",
    "\n",
    "%load_ext autoreload\n",
    "%autoreload 2\n",
    "%cd .."
   ]
  },
  {
   "cell_type": "code",
   "execution_count": 2,
   "id": "f5dbd25a-e418-400d-9a46-0e7d71116cfa",
   "metadata": {},
   "outputs": [],
   "source": [
    "import housing_nyc as nyc"
   ]
  },
  {
   "cell_type": "markdown",
   "id": "7c49e55b-f1d9-4b8f-8475-cd5974b3255f",
   "metadata": {},
   "source": [
    "see https://stackoverflow.com/questions/4871369/python-error-attributeerror-module-object-has-no-attribute for basics on imports"
   ]
  },
  {
   "cell_type": "markdown",
   "id": "8295902f-42e0-4824-a008-4cdc165b7e6c",
   "metadata": {},
   "source": [
    "# Start up of library"
   ]
  },
  {
   "cell_type": "code",
   "execution_count": 3,
   "id": "75866310-83f7-4db3-94a9-b5b2dfd1b5bb",
   "metadata": {},
   "outputs": [],
   "source": [
    "psql = nyc.Postgres('nycdb')"
   ]
  },
  {
   "cell_type": "code",
   "execution_count": 7,
   "id": "4b3a591e-a8d9-49ee-85cb-583f685b14ff",
   "metadata": {},
   "outputs": [],
   "source": [
    "from housing_nyc import Postgres"
   ]
  },
  {
   "cell_type": "code",
   "execution_count": 8,
   "id": "89fa8279-0446-4ea8-ad53-dadc0cd5f2a6",
   "metadata": {},
   "outputs": [],
   "source": [
    "psql = Postgres('nycdb')"
   ]
  },
  {
   "cell_type": "code",
   "execution_count": 9,
   "id": "9f3709a5-613c-4216-99d6-446b8dc0c29a",
   "metadata": {},
   "outputs": [
    {
     "data": {
      "text/plain": [
       "{'_section_name': 'nycdb',\n",
       " 'conn': <connection object at 0x11ba60eb0; dsn: 'user=kevinvu password=xxx dbname=nycdb host=localhost port=5432', closed: 0>,\n",
       " '_schema_name': 'public'}"
      ]
     },
     "execution_count": 9,
     "metadata": {},
     "output_type": "execute_result"
    }
   ],
   "source": [
    "psql.__dict__"
   ]
  },
  {
   "cell_type": "code",
   "execution_count": 6,
   "id": "54ec9ec6-32ef-4309-80e0-b0d52ece366d",
   "metadata": {
    "collapsed": true,
    "jupyter": {
     "outputs_hidden": true
    },
    "tags": []
   },
   "outputs": [
    {
     "name": "stdout",
     "output_type": "stream",
     "text": [
      "Help on Postgres in module housing_nyc.postgres object:\n",
      "\n",
      "class Postgres(builtins.object)\n",
      " |  Postgres(section)\n",
      " |  \n",
      " |  Base class for managing PostgreSQL connections.\n",
      " |  \n",
      " |  Parameters\n",
      " |  ----------\n",
      " |  section : str\n",
      " |      Section name in config.ini\n",
      " |  \n",
      " |  Methods defined here:\n",
      " |  \n",
      " |  __init__(self, section)\n",
      " |      Initialize self.  See help(type(self)) for accurate signature.\n",
      " |  \n",
      " |  close(self)\n",
      " |  \n",
      " |  connect(self)\n",
      " |  \n",
      " |  connected(self) -> bool\n",
      " |  \n",
      " |  get(self, table_name, query='')\n",
      " |      Imports table into pandas.DataFrame.\n",
      " |      \n",
      " |      Has an option to form a query statement, else uses standard \"select * from table_name\"\n",
      " |      \n",
      " |      Parameters\n",
      " |      ----------\n",
      " |      table_name : str\n",
      " |          Name of table in database\n",
      " |      query : str, optional\n",
      " |          Custom query statement\n",
      " |      \n",
      " |      Returns\n",
      " |      -------\n",
      " |      df : pandas.DataFrame\n",
      " |          Imported table\n",
      " |  \n",
      " |  get_connection_by_config(self)\n",
      " |      This method will connect with the login parameters as specified by the \n",
      " |      section argument in the class instansiation.\n",
      " |      \n",
      " |      Returns\n",
      " |      -------\n",
      " |      conn : psycopg2.connection\n",
      " |  \n",
      " |  ----------------------------------------------------------------------\n",
      " |  Data descriptors defined here:\n",
      " |  \n",
      " |  __dict__\n",
      " |      dictionary for instance variables (if defined)\n",
      " |  \n",
      " |  __weakref__\n",
      " |      list of weak references to the object (if defined)\n",
      "\n"
     ]
    }
   ],
   "source": [
    "help(psql)"
   ]
  },
  {
   "cell_type": "code",
   "execution_count": 10,
   "id": "1c6ee8ea-458a-43b6-a49b-558b584f44f2",
   "metadata": {},
   "outputs": [],
   "source": [
    "from housing_nyc.postgres import Nycdb"
   ]
  },
  {
   "cell_type": "code",
   "execution_count": 11,
   "id": "75f85195-d753-4961-a5e5-a00fc77108fa",
   "metadata": {},
   "outputs": [],
   "source": [
    "nycdb = Nycdb()"
   ]
  },
  {
   "cell_type": "code",
   "execution_count": 12,
   "id": "c7e9db0a-391f-42ad-aada-2adee3a3c4fe",
   "metadata": {},
   "outputs": [
    {
     "data": {
      "text/plain": [
       "{'_section_name': 'nycdb',\n",
       " 'conn': <connection object at 0x11c012040; dsn: 'user=kevinvu password=xxx dbname=nycdb host=localhost port=5432', closed: 0>,\n",
       " '_schema_name': 'public',\n",
       " '_new': 'test'}"
      ]
     },
     "execution_count": 12,
     "metadata": {},
     "output_type": "execute_result"
    }
   ],
   "source": [
    "nycdb.__dict__"
   ]
  },
  {
   "cell_type": "code",
   "execution_count": 3,
   "id": "a8a38f44-75f3-4edb-af60-e0e6ed383ac6",
   "metadata": {},
   "outputs": [],
   "source": [
    "from housing_nyc import Postgres"
   ]
  },
  {
   "cell_type": "code",
   "execution_count": 4,
   "id": "9125427a-dde6-467b-92c9-5113e9fe437f",
   "metadata": {
    "collapsed": true,
    "jupyter": {
     "outputs_hidden": true
    },
    "tags": []
   },
   "outputs": [
    {
     "ename": "InterfaceError",
     "evalue": "connection already closed",
     "output_type": "error",
     "traceback": [
      "\u001b[0;31m---------------------------------------------------------------------------\u001b[0m",
      "\u001b[0;31mInterfaceError\u001b[0m                            Traceback (most recent call last)",
      "\u001b[0;32m/var/folders/3t/1t1r_w1n3fv_x52d58dpfhlc0000gn/T/ipykernel_32182/429855999.py\u001b[0m in \u001b[0;36m<module>\u001b[0;34m\u001b[0m\n\u001b[1;32m      1\u001b[0m \u001b[0mpsql\u001b[0m \u001b[0;34m=\u001b[0m \u001b[0mPostgres\u001b[0m\u001b[0;34m(\u001b[0m\u001b[0;34m'nycdb'\u001b[0m\u001b[0;34m)\u001b[0m\u001b[0;34m\u001b[0m\u001b[0;34m\u001b[0m\u001b[0m\n\u001b[0;32m----> 2\u001b[0;31m \u001b[0mpsql\u001b[0m\u001b[0;34m.\u001b[0m\u001b[0mget\u001b[0m\u001b[0;34m(\u001b[0m\u001b[0;34m'accounts'\u001b[0m\u001b[0;34m)\u001b[0m\u001b[0;34m\u001b[0m\u001b[0;34m\u001b[0m\u001b[0m\n\u001b[0m",
      "\u001b[0;32m~/Root/Projects/housing-nyc/housing_nyc/postgres.py\u001b[0m in \u001b[0;36mwrapper\u001b[0;34m(*args, **kwargs)\u001b[0m\n\u001b[1;32m     22\u001b[0m         \u001b[0;32mif\u001b[0m \u001b[0;32mnot\u001b[0m \u001b[0mcls\u001b[0m\u001b[0;34m.\u001b[0m\u001b[0mconnected\u001b[0m\u001b[0;34m(\u001b[0m\u001b[0;34m)\u001b[0m\u001b[0;34m:\u001b[0m\u001b[0;34m\u001b[0m\u001b[0;34m\u001b[0m\u001b[0m\n\u001b[1;32m     23\u001b[0m             \u001b[0mcls\u001b[0m\u001b[0;34m.\u001b[0m\u001b[0mconnect\u001b[0m\u001b[0;34m(\u001b[0m\u001b[0;34m)\u001b[0m\u001b[0;34m\u001b[0m\u001b[0;34m\u001b[0m\u001b[0m\n\u001b[0;32m---> 24\u001b[0;31m         \u001b[0moutput\u001b[0m \u001b[0;34m=\u001b[0m \u001b[0mfunc\u001b[0m\u001b[0;34m(\u001b[0m\u001b[0;34m*\u001b[0m\u001b[0margs\u001b[0m\u001b[0;34m,\u001b[0m \u001b[0;34m**\u001b[0m\u001b[0mkwargs\u001b[0m\u001b[0;34m)\u001b[0m\u001b[0;34m\u001b[0m\u001b[0;34m\u001b[0m\u001b[0m\n\u001b[0m\u001b[1;32m     25\u001b[0m         \u001b[0mcls\u001b[0m\u001b[0;34m.\u001b[0m\u001b[0mclose\u001b[0m\u001b[0;34m(\u001b[0m\u001b[0;34m)\u001b[0m\u001b[0;34m\u001b[0m\u001b[0;34m\u001b[0m\u001b[0m\n\u001b[1;32m     26\u001b[0m         \u001b[0;32mreturn\u001b[0m \u001b[0moutput\u001b[0m\u001b[0;34m\u001b[0m\u001b[0;34m\u001b[0m\u001b[0m\n",
      "\u001b[0;32m~/Root/Projects/housing-nyc/housing_nyc/postgres.py\u001b[0m in \u001b[0;36mget\u001b[0;34m(self, table_name, query)\u001b[0m\n\u001b[1;32m    134\u001b[0m             \u001b[0mquery\u001b[0m \u001b[0;34m=\u001b[0m \u001b[0;34m\"select * from {table};\"\u001b[0m\u001b[0;34m.\u001b[0m\u001b[0mformat\u001b[0m\u001b[0;34m(\u001b[0m\u001b[0mtable\u001b[0m\u001b[0;34m=\u001b[0m\u001b[0;34m(\u001b[0m\u001b[0mself\u001b[0m\u001b[0;34m.\u001b[0m\u001b[0m_schema_name\u001b[0m \u001b[0;34m+\u001b[0m \u001b[0;34m\".\"\u001b[0m \u001b[0;34m+\u001b[0m \u001b[0mtable_name\u001b[0m\u001b[0;34m)\u001b[0m\u001b[0;34m)\u001b[0m\u001b[0;34m\u001b[0m\u001b[0;34m\u001b[0m\u001b[0m\n\u001b[1;32m    135\u001b[0m         \u001b[0;32mif\u001b[0m \u001b[0mself\u001b[0m\u001b[0;34m.\u001b[0m\u001b[0m_table_exists\u001b[0m\u001b[0;34m(\u001b[0m\u001b[0mtable_name\u001b[0m\u001b[0;34m)\u001b[0m\u001b[0;34m:\u001b[0m\u001b[0;34m\u001b[0m\u001b[0;34m\u001b[0m\u001b[0m\n\u001b[0;32m--> 136\u001b[0;31m             \u001b[0mdf\u001b[0m \u001b[0;34m=\u001b[0m \u001b[0mpd\u001b[0m\u001b[0;34m.\u001b[0m\u001b[0mread_sql_query\u001b[0m\u001b[0;34m(\u001b[0m\u001b[0mquery\u001b[0m\u001b[0;34m,\u001b[0m \u001b[0mself\u001b[0m\u001b[0;34m.\u001b[0m\u001b[0mconn\u001b[0m\u001b[0;34m)\u001b[0m\u001b[0;34m\u001b[0m\u001b[0;34m\u001b[0m\u001b[0m\n\u001b[0m\u001b[1;32m    137\u001b[0m             \u001b[0;32mreturn\u001b[0m \u001b[0mdf\u001b[0m\u001b[0;34m\u001b[0m\u001b[0;34m\u001b[0m\u001b[0m\n\u001b[1;32m    138\u001b[0m         \u001b[0;32melse\u001b[0m\u001b[0;34m:\u001b[0m\u001b[0;34m\u001b[0m\u001b[0;34m\u001b[0m\u001b[0m\n",
      "\u001b[0;32m~/.pyenv/versions/housing-nyc/lib/python3.8/site-packages/pandas/io/sql.py\u001b[0m in \u001b[0;36mread_sql_query\u001b[0;34m(sql, con, index_col, coerce_float, params, parse_dates, chunksize, dtype)\u001b[0m\n\u001b[1;32m    434\u001b[0m     \"\"\"\n\u001b[1;32m    435\u001b[0m     \u001b[0mpandas_sql\u001b[0m \u001b[0;34m=\u001b[0m \u001b[0mpandasSQL_builder\u001b[0m\u001b[0;34m(\u001b[0m\u001b[0mcon\u001b[0m\u001b[0;34m)\u001b[0m\u001b[0;34m\u001b[0m\u001b[0;34m\u001b[0m\u001b[0m\n\u001b[0;32m--> 436\u001b[0;31m     return pandas_sql.read_query(\n\u001b[0m\u001b[1;32m    437\u001b[0m         \u001b[0msql\u001b[0m\u001b[0;34m,\u001b[0m\u001b[0;34m\u001b[0m\u001b[0;34m\u001b[0m\u001b[0m\n\u001b[1;32m    438\u001b[0m         \u001b[0mindex_col\u001b[0m\u001b[0;34m=\u001b[0m\u001b[0mindex_col\u001b[0m\u001b[0;34m,\u001b[0m\u001b[0;34m\u001b[0m\u001b[0;34m\u001b[0m\u001b[0m\n",
      "\u001b[0;32m~/.pyenv/versions/housing-nyc/lib/python3.8/site-packages/pandas/io/sql.py\u001b[0m in \u001b[0;36mread_query\u001b[0;34m(self, sql, index_col, coerce_float, params, parse_dates, chunksize, dtype)\u001b[0m\n\u001b[1;32m   2114\u001b[0m \u001b[0;34m\u001b[0m\u001b[0m\n\u001b[1;32m   2115\u001b[0m         \u001b[0margs\u001b[0m \u001b[0;34m=\u001b[0m \u001b[0m_convert_params\u001b[0m\u001b[0;34m(\u001b[0m\u001b[0msql\u001b[0m\u001b[0;34m,\u001b[0m \u001b[0mparams\u001b[0m\u001b[0;34m)\u001b[0m\u001b[0;34m\u001b[0m\u001b[0;34m\u001b[0m\u001b[0m\n\u001b[0;32m-> 2116\u001b[0;31m         \u001b[0mcursor\u001b[0m \u001b[0;34m=\u001b[0m \u001b[0mself\u001b[0m\u001b[0;34m.\u001b[0m\u001b[0mexecute\u001b[0m\u001b[0;34m(\u001b[0m\u001b[0;34m*\u001b[0m\u001b[0margs\u001b[0m\u001b[0;34m)\u001b[0m\u001b[0;34m\u001b[0m\u001b[0;34m\u001b[0m\u001b[0m\n\u001b[0m\u001b[1;32m   2117\u001b[0m         \u001b[0mcolumns\u001b[0m \u001b[0;34m=\u001b[0m \u001b[0;34m[\u001b[0m\u001b[0mcol_desc\u001b[0m\u001b[0;34m[\u001b[0m\u001b[0;36m0\u001b[0m\u001b[0;34m]\u001b[0m \u001b[0;32mfor\u001b[0m \u001b[0mcol_desc\u001b[0m \u001b[0;32min\u001b[0m \u001b[0mcursor\u001b[0m\u001b[0;34m.\u001b[0m\u001b[0mdescription\u001b[0m\u001b[0;34m]\u001b[0m\u001b[0;34m\u001b[0m\u001b[0;34m\u001b[0m\u001b[0m\n\u001b[1;32m   2118\u001b[0m \u001b[0;34m\u001b[0m\u001b[0m\n",
      "\u001b[0;32m~/.pyenv/versions/housing-nyc/lib/python3.8/site-packages/pandas/io/sql.py\u001b[0m in \u001b[0;36mexecute\u001b[0;34m(self, *args, **kwargs)\u001b[0m\n\u001b[1;32m   2052\u001b[0m             \u001b[0mcur\u001b[0m \u001b[0;34m=\u001b[0m \u001b[0mself\u001b[0m\u001b[0;34m.\u001b[0m\u001b[0mcon\u001b[0m\u001b[0;34m\u001b[0m\u001b[0;34m\u001b[0m\u001b[0m\n\u001b[1;32m   2053\u001b[0m         \u001b[0;32melse\u001b[0m\u001b[0;34m:\u001b[0m\u001b[0;34m\u001b[0m\u001b[0;34m\u001b[0m\u001b[0m\n\u001b[0;32m-> 2054\u001b[0;31m             \u001b[0mcur\u001b[0m \u001b[0;34m=\u001b[0m \u001b[0mself\u001b[0m\u001b[0;34m.\u001b[0m\u001b[0mcon\u001b[0m\u001b[0;34m.\u001b[0m\u001b[0mcursor\u001b[0m\u001b[0;34m(\u001b[0m\u001b[0;34m)\u001b[0m\u001b[0;34m\u001b[0m\u001b[0;34m\u001b[0m\u001b[0m\n\u001b[0m\u001b[1;32m   2055\u001b[0m         \u001b[0;32mtry\u001b[0m\u001b[0;34m:\u001b[0m\u001b[0;34m\u001b[0m\u001b[0;34m\u001b[0m\u001b[0m\n\u001b[1;32m   2056\u001b[0m             \u001b[0mcur\u001b[0m\u001b[0;34m.\u001b[0m\u001b[0mexecute\u001b[0m\u001b[0;34m(\u001b[0m\u001b[0;34m*\u001b[0m\u001b[0margs\u001b[0m\u001b[0;34m,\u001b[0m \u001b[0;34m**\u001b[0m\u001b[0mkwargs\u001b[0m\u001b[0;34m)\u001b[0m\u001b[0;34m\u001b[0m\u001b[0;34m\u001b[0m\u001b[0m\n",
      "\u001b[0;31mInterfaceError\u001b[0m: connection already closed"
     ]
    }
   ],
   "source": [
    "psql = Postgres('nycdb')\n",
    "psql.get('accounts')"
   ]
  },
  {
   "cell_type": "markdown",
   "id": "00435601-e5bb-4d40-b830-0ae05236230e",
   "metadata": {},
   "source": [
    "# BblBldg class"
   ]
  },
  {
   "cell_type": "code",
   "execution_count": 3,
   "id": "66309552-adbf-4c68-8ae4-b3fcaecd3f74",
   "metadata": {},
   "outputs": [],
   "source": [
    "test1 = nyc.postgres.BblBldg(mappluto='mappluto_unclipped')"
   ]
  },
  {
   "cell_type": "code",
   "execution_count": 6,
   "id": "14895cc5-4d57-4ded-805f-eb754549212b",
   "metadata": {},
   "outputs": [
    {
     "data": {
      "text/plain": [
       "<housing_nyc.postgres.BblBldg at 0x10c0baa90>"
      ]
     },
     "execution_count": 6,
     "metadata": {},
     "output_type": "execute_result"
    }
   ],
   "source": [
    "test1"
   ]
  },
  {
   "cell_type": "code",
   "execution_count": 38,
   "id": "e87310ee-7a12-475d-a58b-803565baa4b5",
   "metadata": {},
   "outputs": [
    {
     "data": {
      "text/plain": [
       "<connection object at 0x1513962e0; dsn: 'user=kevinvu password=xxx dbname=nycdb host=localhost port=5432', closed: 0>"
      ]
     },
     "execution_count": 38,
     "metadata": {},
     "output_type": "execute_result"
    }
   ],
   "source": [
    "test1.qgis.conn"
   ]
  },
  {
   "cell_type": "code",
   "execution_count": 39,
   "id": "a93006d8-63ec-4190-83b6-56803428277b",
   "metadata": {},
   "outputs": [
    {
     "name": "stdout",
     "output_type": "stream",
     "text": [
      "21.6 s ± 1.54 s per loop (mean ± std. dev. of 7 runs, 1 loop each)\n"
     ]
    }
   ],
   "source": [
    "%%timeit\n",
    "test1._get_tables()"
   ]
  },
  {
   "cell_type": "code",
   "execution_count": 44,
   "id": "f97c65da-f95a-496b-871e-4157c150e82f",
   "metadata": {},
   "outputs": [
    {
     "data": {
      "text/html": [
       "<div>\n",
       "<style scoped>\n",
       "    .dataframe tbody tr th:only-of-type {\n",
       "        vertical-align: middle;\n",
       "    }\n",
       "\n",
       "    .dataframe tbody tr th {\n",
       "        vertical-align: top;\n",
       "    }\n",
       "\n",
       "    .dataframe thead th {\n",
       "        text-align: right;\n",
       "    }\n",
       "</style>\n",
       "<table border=\"1\" class=\"dataframe\">\n",
       "  <thead>\n",
       "    <tr style=\"text-align: right;\">\n",
       "      <th></th>\n",
       "      <th>boro</th>\n",
       "      <th>block</th>\n",
       "      <th>lot</th>\n",
       "      <th>bbl</th>\n",
       "      <th>address</th>\n",
       "      <th>zipcode</th>\n",
       "    </tr>\n",
       "  </thead>\n",
       "  <tbody>\n",
       "    <tr>\n",
       "      <th>0</th>\n",
       "      <td>1</td>\n",
       "      <td>00001</td>\n",
       "      <td>0010</td>\n",
       "      <td>1000010010</td>\n",
       "      <td>1 GOVERNORS ISLAND</td>\n",
       "      <td>10004</td>\n",
       "    </tr>\n",
       "    <tr>\n",
       "      <th>1</th>\n",
       "      <td>1</td>\n",
       "      <td>00002</td>\n",
       "      <td>0002</td>\n",
       "      <td>1000020002</td>\n",
       "      <td>10 SOUTH STREET</td>\n",
       "      <td>10004</td>\n",
       "    </tr>\n",
       "    <tr>\n",
       "      <th>2</th>\n",
       "      <td>1</td>\n",
       "      <td>00003</td>\n",
       "      <td>0010</td>\n",
       "      <td>1000030010</td>\n",
       "      <td>1 SOUTH STREET</td>\n",
       "      <td>10004</td>\n",
       "    </tr>\n",
       "    <tr>\n",
       "      <th>3</th>\n",
       "      <td>1</td>\n",
       "      <td>00005</td>\n",
       "      <td>7501</td>\n",
       "      <td>1000057501</td>\n",
       "      <td>125 BROAD STREET</td>\n",
       "      <td>10004</td>\n",
       "    </tr>\n",
       "    <tr>\n",
       "      <th>4</th>\n",
       "      <td>1</td>\n",
       "      <td>00006</td>\n",
       "      <td>0001</td>\n",
       "      <td>1000060001</td>\n",
       "      <td>24 SOUTH STREET</td>\n",
       "      <td>10004</td>\n",
       "    </tr>\n",
       "  </tbody>\n",
       "</table>\n",
       "</div>"
      ],
      "text/plain": [
       "  boro  block   lot         bbl             address zipcode\n",
       "0    1  00001  0010  1000010010  1 GOVERNORS ISLAND   10004\n",
       "1    1  00002  0002  1000020002     10 SOUTH STREET   10004\n",
       "2    1  00003  0010  1000030010      1 SOUTH STREET   10004\n",
       "3    1  00005  7501  1000057501    125 BROAD STREET   10004\n",
       "4    1  00006  0001  1000060001     24 SOUTH STREET   10004"
      ]
     },
     "execution_count": 44,
     "metadata": {},
     "output_type": "execute_result"
    }
   ],
   "source": [
    "test1.mappluto.head()"
   ]
  },
  {
   "cell_type": "code",
   "execution_count": 42,
   "id": "c6fe1f7c-7b7f-41ec-9547-0d66171dff18",
   "metadata": {},
   "outputs": [
    {
     "data": {
      "text/html": [
       "<div>\n",
       "<style scoped>\n",
       "    .dataframe tbody tr th:only-of-type {\n",
       "        vertical-align: middle;\n",
       "    }\n",
       "\n",
       "    .dataframe tbody tr th {\n",
       "        vertical-align: top;\n",
       "    }\n",
       "\n",
       "    .dataframe thead th {\n",
       "        text-align: right;\n",
       "    }\n",
       "</style>\n",
       "<table border=\"1\" class=\"dataframe\">\n",
       "  <thead>\n",
       "    <tr style=\"text-align: right;\">\n",
       "      <th></th>\n",
       "      <th>boro</th>\n",
       "      <th>block</th>\n",
       "      <th>lot</th>\n",
       "      <th>bbl</th>\n",
       "      <th>housenum_lo</th>\n",
       "      <th>housenum_hi</th>\n",
       "      <th>street_name</th>\n",
       "      <th>aptno</th>\n",
       "      <th>zip_code</th>\n",
       "      <th>address</th>\n",
       "    </tr>\n",
       "  </thead>\n",
       "  <tbody>\n",
       "    <tr>\n",
       "      <th>0</th>\n",
       "      <td>1</td>\n",
       "      <td>00001</td>\n",
       "      <td>0010</td>\n",
       "      <td>1000010010</td>\n",
       "      <td>1</td>\n",
       "      <td>1</td>\n",
       "      <td>GOVERNORS ISLAND</td>\n",
       "      <td></td>\n",
       "      <td>10004</td>\n",
       "      <td>1 GOVERNORS ISLAND</td>\n",
       "    </tr>\n",
       "    <tr>\n",
       "      <th>1</th>\n",
       "      <td>1</td>\n",
       "      <td>00001</td>\n",
       "      <td>0101</td>\n",
       "      <td>1000010101</td>\n",
       "      <td>1</td>\n",
       "      <td>1</td>\n",
       "      <td>LIBERTY ISLAND</td>\n",
       "      <td></td>\n",
       "      <td>10004</td>\n",
       "      <td>1 LIBERTY ISLAND</td>\n",
       "    </tr>\n",
       "    <tr>\n",
       "      <th>2</th>\n",
       "      <td>1</td>\n",
       "      <td>00001</td>\n",
       "      <td>0201</td>\n",
       "      <td>1000010201</td>\n",
       "      <td>1</td>\n",
       "      <td>1</td>\n",
       "      <td>ELLIS ISLAND</td>\n",
       "      <td></td>\n",
       "      <td>10004</td>\n",
       "      <td>1 ELLIS ISLAND</td>\n",
       "    </tr>\n",
       "    <tr>\n",
       "      <th>3</th>\n",
       "      <td>1</td>\n",
       "      <td>00001</td>\n",
       "      <td>0301</td>\n",
       "      <td>1000010301</td>\n",
       "      <td></td>\n",
       "      <td></td>\n",
       "      <td>JOE DIMAGGIO HIGHWAY</td>\n",
       "      <td></td>\n",
       "      <td>0</td>\n",
       "      <td>JOE DIMAGGIO HIGHWAY</td>\n",
       "    </tr>\n",
       "    <tr>\n",
       "      <th>4</th>\n",
       "      <td>1</td>\n",
       "      <td>00001</td>\n",
       "      <td>0401</td>\n",
       "      <td>1000010401</td>\n",
       "      <td></td>\n",
       "      <td></td>\n",
       "      <td>JOE DIMAGGIO HIGHWAY</td>\n",
       "      <td></td>\n",
       "      <td>0</td>\n",
       "      <td>JOE DIMAGGIO HIGHWAY</td>\n",
       "    </tr>\n",
       "  </tbody>\n",
       "</table>\n",
       "</div>"
      ],
      "text/plain": [
       "  boro  block   lot         bbl housenum_lo housenum_hi           street_name  \\\n",
       "0    1  00001  0010  1000010010           1           1      GOVERNORS ISLAND   \n",
       "1    1  00001  0101  1000010101           1           1        LIBERTY ISLAND   \n",
       "2    1  00001  0201  1000010201           1           1          ELLIS ISLAND   \n",
       "3    1  00001  0301  1000010301                          JOE DIMAGGIO HIGHWAY   \n",
       "4    1  00001  0401  1000010401                          JOE DIMAGGIO HIGHWAY   \n",
       "\n",
       "  aptno zip_code                address  \n",
       "0          10004     1 GOVERNORS ISLAND  \n",
       "1          10004       1 LIBERTY ISLAND  \n",
       "2          10004         1 ELLIS ISLAND  \n",
       "3              0   JOE DIMAGGIO HIGHWAY  \n",
       "4              0   JOE DIMAGGIO HIGHWAY  "
      ]
     },
     "execution_count": 42,
     "metadata": {},
     "output_type": "execute_result"
    }
   ],
   "source": [
    "test1.avroll.head()"
   ]
  },
  {
   "cell_type": "markdown",
   "id": "7e26731f-fc16-46e8-8203-e2a814a9f0e3",
   "metadata": {},
   "source": [
    "## subset avroll"
   ]
  },
  {
   "cell_type": "code",
   "execution_count": 118,
   "id": "50ef0cf0-5f32-4711-9262-e123c54f48dd",
   "metadata": {},
   "outputs": [
    {
     "data": {
      "text/plain": [
       "''"
      ]
     },
     "execution_count": 118,
     "metadata": {},
     "output_type": "execute_result"
    }
   ],
   "source": [
    "test1.avroll['aptno'].loc[1]"
   ]
  },
  {
   "cell_type": "code",
   "execution_count": 120,
   "id": "439930d5-db9a-4dfa-8a52-448412a52875",
   "metadata": {},
   "outputs": [
    {
     "data": {
      "text/plain": [
       "288183"
      ]
     },
     "execution_count": 120,
     "metadata": {},
     "output_type": "execute_result"
    }
   ],
   "source": [
    "len(test1.avroll.loc[test1.avroll['aptno'] != ''])"
   ]
  },
  {
   "cell_type": "code",
   "execution_count": 125,
   "id": "b8cf026a-e62e-4f51-97ef-4cc26ebb1961",
   "metadata": {},
   "outputs": [],
   "source": [
    "df3 = test1.avroll.loc[test1.avroll['aptno'] != '']"
   ]
  },
  {
   "cell_type": "markdown",
   "id": "084f22dd-d09a-4e8b-a8e6-5b8e052d934b",
   "metadata": {},
   "source": [
    "## create bblbldg table"
   ]
  },
  {
   "cell_type": "markdown",
   "id": "a626a063-6da2-4339-a283-3f6f40d818c3",
   "metadata": {},
   "source": [
    "### join method 1: naked merge"
   ]
  },
  {
   "cell_type": "code",
   "execution_count": 45,
   "id": "dba9b89d-7d14-41da-89e4-9aaa9132447b",
   "metadata": {},
   "outputs": [
    {
     "name": "stdout",
     "output_type": "stream",
     "text": [
      "1min 9s ± 8.93 s per loop (mean ± std. dev. of 7 runs, 1 loop each)\n"
     ]
    }
   ],
   "source": [
    "%%timeit\n",
    "test1._join_tables()"
   ]
  },
  {
   "cell_type": "code",
   "execution_count": 52,
   "id": "7cfc2408-a072-4a60-8302-12c392cfd8f1",
   "metadata": {},
   "outputs": [],
   "source": [
    "test1.bblbldg = test1._join_tables()"
   ]
  },
  {
   "cell_type": "code",
   "execution_count": 70,
   "id": "730913e8-b83f-4099-97bf-47a6df51a1a7",
   "metadata": {},
   "outputs": [
    {
     "data": {
      "text/plain": [
       "1028067"
      ]
     },
     "metadata": {},
     "output_type": "display_data"
    },
    {
     "data": {
      "text/html": [
       "<div>\n",
       "<style scoped>\n",
       "    .dataframe tbody tr th:only-of-type {\n",
       "        vertical-align: middle;\n",
       "    }\n",
       "\n",
       "    .dataframe tbody tr th {\n",
       "        vertical-align: top;\n",
       "    }\n",
       "\n",
       "    .dataframe thead th {\n",
       "        text-align: right;\n",
       "    }\n",
       "</style>\n",
       "<table border=\"1\" class=\"dataframe\">\n",
       "  <thead>\n",
       "    <tr style=\"text-align: right;\">\n",
       "      <th></th>\n",
       "      <th>boro</th>\n",
       "      <th>block</th>\n",
       "      <th>lot_x</th>\n",
       "      <th>bbl_x</th>\n",
       "      <th>housenum_lo</th>\n",
       "      <th>housenum_hi</th>\n",
       "      <th>street_name</th>\n",
       "      <th>aptno</th>\n",
       "      <th>zip_code</th>\n",
       "      <th>address_x</th>\n",
       "      <th>lot_y</th>\n",
       "      <th>bbl_y</th>\n",
       "      <th>address_y</th>\n",
       "      <th>zipcode</th>\n",
       "    </tr>\n",
       "  </thead>\n",
       "  <tbody>\n",
       "    <tr>\n",
       "      <th>0</th>\n",
       "      <td>1</td>\n",
       "      <td>00001</td>\n",
       "      <td>0010</td>\n",
       "      <td>1000010010</td>\n",
       "      <td>1</td>\n",
       "      <td>1</td>\n",
       "      <td>GOVERNORS ISLAND</td>\n",
       "      <td></td>\n",
       "      <td>10004</td>\n",
       "      <td>1 GOVERNORS ISLAND</td>\n",
       "      <td>0010</td>\n",
       "      <td>1000010010</td>\n",
       "      <td>1 GOVERNORS ISLAND</td>\n",
       "      <td>10004</td>\n",
       "    </tr>\n",
       "    <tr>\n",
       "      <th>5</th>\n",
       "      <td>1</td>\n",
       "      <td>00001</td>\n",
       "      <td>0101</td>\n",
       "      <td>1000010101</td>\n",
       "      <td>1</td>\n",
       "      <td>1</td>\n",
       "      <td>LIBERTY ISLAND</td>\n",
       "      <td></td>\n",
       "      <td>10004</td>\n",
       "      <td>1 LIBERTY ISLAND</td>\n",
       "      <td>0101</td>\n",
       "      <td>1000010101</td>\n",
       "      <td>1 LIBERTY ISLAND</td>\n",
       "      <td>10004</td>\n",
       "    </tr>\n",
       "    <tr>\n",
       "      <th>7</th>\n",
       "      <td>1</td>\n",
       "      <td>00001</td>\n",
       "      <td>0201</td>\n",
       "      <td>1000010201</td>\n",
       "      <td>1</td>\n",
       "      <td>1</td>\n",
       "      <td>ELLIS ISLAND</td>\n",
       "      <td></td>\n",
       "      <td>10004</td>\n",
       "      <td>1 ELLIS ISLAND</td>\n",
       "      <td>0201</td>\n",
       "      <td>1000010201</td>\n",
       "      <td>1 ELLIS ISLAND</td>\n",
       "      <td>10004</td>\n",
       "    </tr>\n",
       "    <tr>\n",
       "      <th>14</th>\n",
       "      <td>1</td>\n",
       "      <td>00002</td>\n",
       "      <td>0001</td>\n",
       "      <td>1000020001</td>\n",
       "      <td>4</td>\n",
       "      <td>4</td>\n",
       "      <td>SOUTH STREET</td>\n",
       "      <td></td>\n",
       "      <td>10004</td>\n",
       "      <td>4 SOUTH STREET</td>\n",
       "      <td>0001</td>\n",
       "      <td>1000020001</td>\n",
       "      <td>4 SOUTH STREET</td>\n",
       "      <td>10004</td>\n",
       "    </tr>\n",
       "    <tr>\n",
       "      <th>16</th>\n",
       "      <td>1</td>\n",
       "      <td>00002</td>\n",
       "      <td>0002</td>\n",
       "      <td>1000020002</td>\n",
       "      <td>10</td>\n",
       "      <td>10</td>\n",
       "      <td>SOUTH STREET</td>\n",
       "      <td></td>\n",
       "      <td>10004</td>\n",
       "      <td>10 SOUTH STREET</td>\n",
       "      <td>0002</td>\n",
       "      <td>1000020002</td>\n",
       "      <td>10 SOUTH STREET</td>\n",
       "      <td>10004</td>\n",
       "    </tr>\n",
       "  </tbody>\n",
       "</table>\n",
       "</div>"
      ],
      "text/plain": [
       "   boro  block lot_x       bbl_x housenum_lo housenum_hi       street_name  \\\n",
       "0     1  00001  0010  1000010010           1           1  GOVERNORS ISLAND   \n",
       "5     1  00001  0101  1000010101           1           1    LIBERTY ISLAND   \n",
       "7     1  00001  0201  1000010201           1           1      ELLIS ISLAND   \n",
       "14    1  00002  0001  1000020001           4           4      SOUTH STREET   \n",
       "16    1  00002  0002  1000020002          10          10      SOUTH STREET   \n",
       "\n",
       "   aptno zip_code           address_x lot_y       bbl_y           address_y  \\\n",
       "0           10004  1 GOVERNORS ISLAND  0010  1000010010  1 GOVERNORS ISLAND   \n",
       "5           10004    1 LIBERTY ISLAND  0101  1000010101    1 LIBERTY ISLAND   \n",
       "7           10004      1 ELLIS ISLAND  0201  1000010201      1 ELLIS ISLAND   \n",
       "14          10004      4 SOUTH STREET  0001  1000020001      4 SOUTH STREET   \n",
       "16          10004     10 SOUTH STREET  0002  1000020002     10 SOUTH STREET   \n",
       "\n",
       "   zipcode  \n",
       "0    10004  \n",
       "5    10004  \n",
       "7    10004  \n",
       "14   10004  \n",
       "16   10004  "
      ]
     },
     "execution_count": 70,
     "metadata": {},
     "output_type": "execute_result"
    }
   ],
   "source": [
    "display(len(test1.bblbldg))\n",
    "test1.bblbldg.head()"
   ]
  },
  {
   "cell_type": "markdown",
   "id": "b3f776ba-8233-43f2-94f2-c0cd1d20245d",
   "metadata": {},
   "source": [
    "### join method 2: with set_index\n",
    "attempt to speed up join_tables func\n",
    "\n",
    "replaced\n",
    "```\n",
    "dfmerge = self.avroll.merge(self.mappluto, left_on=['boro', 'block', 'zip_code'], right_on=['boro', 'block', 'zipcode'])\n",
    "```\n",
    "\n",
    "with\n",
    "\n",
    "```\n",
    "df1 = self.mappluto.set_index(['boro', 'block', 'zipcode'])\n",
    "df2 = self.avroll.set_index(['boro', 'block', 'zip_code'])\n",
    "df2 = df2.rename_axis(df1.index.names)\n",
    "dfmerge = df2.join(df1, how='inner', lsuffix='_x', rsuffix='_y')\n",
    "```\n",
    "\n",
    "this took a very long time, didn't even finish %%timeit, longer than the former code. the set_index timed at 2 s on avg."
   ]
  },
  {
   "cell_type": "code",
   "execution_count": 108,
   "id": "50e5c618-1980-49f5-bf14-d14b50e0e59f",
   "metadata": {},
   "outputs": [
    {
     "name": "stdout",
     "output_type": "stream",
     "text": [
      "2.36 s ± 153 ms per loop (mean ± std. dev. of 7 runs, 1 loop each)\n"
     ]
    }
   ],
   "source": [
    "%%timeit\n",
    "df1 = test1.mappluto.set_index(['boro', 'block', 'zipcode'])\n",
    "df2 = test1.avroll.set_index(['boro', 'block', 'zip_code'])\n",
    "df2 = df2.rename_axis(df1.index.names)"
   ]
  },
  {
   "cell_type": "code",
   "execution_count": 137,
   "id": "c64a26bd-941b-47c2-9a8d-c32797e57580",
   "metadata": {},
   "outputs": [],
   "source": [
    "df1 = test1.mappluto.set_index(['boro', 'block', 'zipcode'])\n",
    "df2 = test1.avroll.set_index(['boro', 'block', 'zip_code'])\n",
    "df2 = df2.rename_axis(df1.index.names)"
   ]
  },
  {
   "cell_type": "code",
   "execution_count": 129,
   "id": "f52aa313-f41b-45c6-a467-8979db526ac4",
   "metadata": {},
   "outputs": [
    {
     "data": {
      "text/plain": [
       "Index(['lot', 'bbl', 'address'], dtype='object')"
      ]
     },
     "metadata": {},
     "output_type": "display_data"
    },
    {
     "data": {
      "text/plain": [
       "Index(['lot', 'bbl', 'housenum_lo', 'housenum_hi', 'street_name', 'aptno',\n",
       "       'address'],\n",
       "      dtype='object')"
      ]
     },
     "metadata": {},
     "output_type": "display_data"
    }
   ],
   "source": [
    "display(df1.columns)\n",
    "display(df2.columns)"
   ]
  },
  {
   "cell_type": "code",
   "execution_count": 139,
   "id": "75bd1071-5414-452f-9527-41ec515ef6c1",
   "metadata": {},
   "outputs": [
    {
     "name": "stdout",
     "output_type": "stream",
     "text": [
      "30.3 s ± 2.02 s per loop (mean ± std. dev. of 7 runs, 1 loop each)\n"
     ]
    }
   ],
   "source": [
    "%%timeit\n",
    "df2.join(df1, how='inner', lsuffix='_x', rsuffix='_y')"
   ]
  },
  {
   "cell_type": "markdown",
   "id": "e4f04acd-32fc-44bc-8e02-d5fa864ed1df",
   "metadata": {},
   "source": [
    "better to just use join method 1"
   ]
  },
  {
   "cell_type": "markdown",
   "id": "6b401d2f-0a88-4014-8258-bbe2a93bb39c",
   "metadata": {},
   "source": [
    "## how to use BblBldg"
   ]
  },
  {
   "cell_type": "code",
   "execution_count": null,
   "id": "a59e7ecb-59f4-4af4-b28e-a8ae1544c637",
   "metadata": {},
   "outputs": [],
   "source": [
    "from housing_nyc import BblBldg"
   ]
  },
  {
   "cell_type": "code",
   "execution_count": 37,
   "id": "86db2d08-1ef1-45fb-8798-4ade3b196e1f",
   "metadata": {},
   "outputs": [
    {
     "name": "stdout",
     "output_type": "stream",
     "text": [
      "Uploaded table bblbldg in schema public\n"
     ]
    }
   ],
   "source": [
    "obj = BblBldg(mappluto='mappluto_unclipped')\n",
    "obj.build_table()\n",
    "obj.upload(obj.bblbldg, obj.bblbldg_name)"
   ]
  }
 ],
 "metadata": {
  "kernelspec": {
   "display_name": "housing-nyc",
   "language": "python",
   "name": "housing-nyc"
  },
  "language_info": {
   "codemirror_mode": {
    "name": "ipython",
    "version": 3
   },
   "file_extension": ".py",
   "mimetype": "text/x-python",
   "name": "python",
   "nbconvert_exporter": "python",
   "pygments_lexer": "ipython3",
   "version": "3.8.6"
  }
 },
 "nbformat": 4,
 "nbformat_minor": 5
}
