{
 "cells": [
  {
   "cell_type": "code",
   "execution_count": 1,
   "id": "932d7c04-58d5-4988-ac69-d9b2421acf9b",
   "metadata": {
    "tags": []
   },
   "outputs": [
    {
     "name": "stdout",
     "output_type": "stream",
     "text": [
      "/Users/kevinvu/Root/Projects/housing-nyc\n"
     ]
    }
   ],
   "source": [
    "# Run magic commands first\n",
    "\n",
    "%load_ext autoreload\n",
    "%autoreload 2\n",
    "%cd .."
   ]
  },
  {
   "cell_type": "code",
   "execution_count": 2,
   "id": "30c4c65a-147f-496f-99bb-f69178c13277",
   "metadata": {},
   "outputs": [],
   "source": [
    "import urbanaccess as ua\n",
    "import pandas as pd\n",
    "import geopandas as gpd\n",
    "import networkx as nx\n",
    "from shapely import wkt"
   ]
  },
  {
   "cell_type": "markdown",
   "id": "d2f12afc-7214-41aa-bdea-1ff4ded64b26",
   "metadata": {},
   "source": [
    "# Import network\n",
    "process:\n",
    "1. import as dataframe, with appropriate data types (dtypes grabbed from original network objects)\n",
    "2. convert geometry columns to wkt\n",
    "3. import as geodataframe"
   ]
  },
  {
   "cell_type": "code",
   "execution_count": 3,
   "id": "ed6a8666-fedc-4a3c-bb10-2356531182e9",
   "metadata": {
    "tags": []
   },
   "outputs": [],
   "source": [
    "col_n = {'id': 'object',\n",
    "        'x': 'float64',\n",
    "        'y': 'float64',\n",
    "        'unique_agency_id': 'object',\n",
    "        'route_type': 'float64',\n",
    "        'stop_id': 'object',\n",
    "        'stop_name': 'object',\n",
    "        'parent_station': 'object',\n",
    "        'stop_code': 'float64',\n",
    "        'zone_id': 'float64',\n",
    "        'location_type': 'float64',\n",
    "        'net_type': 'object',\n",
    "        'geometry': 'geometry',\n",
    "        'street_count': 'float64',\n",
    "        'highway': 'object',\n",
    "        'ref': 'object',}\n",
    "col_e = {'from': 'object',\n",
    "        'to': 'object',\n",
    "        'unique_agency_id': 'object',\n",
    "        'route_type': 'object',\n",
    "        'net_type': 'object',\n",
    "        'total_trips': 'float64',\n",
    "        'weight': 'float64',\n",
    "        'geometry': 'object',\n",
    "        'key': 'float64',\n",
    "        'edge_id': 'float64',\n",
    "        'highway': 'object',\n",
    "        'oneway': 'object',\n",
    "        'reversed': 'object',\n",
    "        'name': 'object',\n",
    "        'maxspeed': 'object',\n",
    "        'lanes': 'object',\n",
    "        'ref': 'object',\n",
    "        'service': 'object',\n",
    "        'access': 'object',\n",
    "        'width': 'object',\n",
    "        'bridge': 'object',\n",
    "        'junction': 'object',\n",
    "        'tunnel': 'object',\n",
    "        'est_width': 'object',\n",
    "        'area': 'object',\n",
    "        'from_int': 'int64',\n",
    "        'to_int': 'int64',}"
   ]
  },
  {
   "cell_type": "code",
   "execution_count": 4,
   "id": "25c00953-3090-4913-8e4d-4cdbe3a37aa5",
   "metadata": {},
   "outputs": [
    {
     "name": "stderr",
     "output_type": "stream",
     "text": [
      "/var/folders/3t/1t1r_w1n3fv_x52d58dpfhlc0000gn/T/ipykernel_16166/3336346770.py:2: ParserWarning: Both a converter and dtype were specified for column geometry - only the converter will be used.\n",
      "  df_n = pd.read_csv(path + 'net_nodes.csv', index_col='id_int', dtype=col_n, converters={'geometry': str})\n",
      "/var/folders/3t/1t1r_w1n3fv_x52d58dpfhlc0000gn/T/ipykernel_16166/3336346770.py:3: ParserWarning: Both a converter and dtype were specified for column geometry - only the converter will be used.\n",
      "  df_e = pd.read_csv(path + 'net_edges.csv', index_col=[0], dtype=col_e, converters={'geometry': str})\n"
     ]
    }
   ],
   "source": [
    "path = 'notebooks/data/'\n",
    "df_n = pd.read_csv(path + 'net_nodes.csv', index_col='id_int', dtype=col_n, converters={'geometry': str})\n",
    "df_e = pd.read_csv(path + 'net_edges.csv', index_col=[0], dtype=col_e, converters={'geometry': str})"
   ]
  },
  {
   "cell_type": "code",
   "execution_count": 5,
   "id": "fc53121c-3786-485f-8457-32dc6c043a05",
   "metadata": {
    "collapsed": true,
    "jupyter": {
     "outputs_hidden": true
    },
    "tags": []
   },
   "outputs": [
    {
     "data": {
      "text/html": [
       "<div>\n",
       "<style scoped>\n",
       "    .dataframe tbody tr th:only-of-type {\n",
       "        vertical-align: middle;\n",
       "    }\n",
       "\n",
       "    .dataframe tbody tr th {\n",
       "        vertical-align: top;\n",
       "    }\n",
       "\n",
       "    .dataframe thead th {\n",
       "        text-align: right;\n",
       "    }\n",
       "</style>\n",
       "<table border=\"1\" class=\"dataframe\">\n",
       "  <thead>\n",
       "    <tr style=\"text-align: right;\">\n",
       "      <th></th>\n",
       "      <th>id</th>\n",
       "      <th>x</th>\n",
       "      <th>y</th>\n",
       "      <th>unique_agency_id</th>\n",
       "      <th>route_type</th>\n",
       "      <th>stop_id</th>\n",
       "      <th>stop_name</th>\n",
       "      <th>parent_station</th>\n",
       "      <th>stop_code</th>\n",
       "      <th>zone_id</th>\n",
       "      <th>location_type</th>\n",
       "      <th>net_type</th>\n",
       "      <th>geometry</th>\n",
       "      <th>street_count</th>\n",
       "      <th>highway</th>\n",
       "      <th>ref</th>\n",
       "    </tr>\n",
       "    <tr>\n",
       "      <th>id_int</th>\n",
       "      <th></th>\n",
       "      <th></th>\n",
       "      <th></th>\n",
       "      <th></th>\n",
       "      <th></th>\n",
       "      <th></th>\n",
       "      <th></th>\n",
       "      <th></th>\n",
       "      <th></th>\n",
       "      <th></th>\n",
       "      <th></th>\n",
       "      <th></th>\n",
       "      <th></th>\n",
       "      <th></th>\n",
       "      <th></th>\n",
       "      <th></th>\n",
       "    </tr>\n",
       "  </thead>\n",
       "  <tbody>\n",
       "    <tr>\n",
       "      <th>1</th>\n",
       "      <td>N05N_Q_mta_new_york_city_transit</td>\n",
       "      <td>-73.990414</td>\n",
       "      <td>40.620671</td>\n",
       "      <td>mta_new_york_city_transit</td>\n",
       "      <td>1.0</td>\n",
       "      <td>N05N</td>\n",
       "      <td>18 Av</td>\n",
       "      <td>N05</td>\n",
       "      <td>NaN</td>\n",
       "      <td>NaN</td>\n",
       "      <td>0.0</td>\n",
       "      <td>transit</td>\n",
       "      <td>POINT (-73.990414 40.620671)</td>\n",
       "      <td>NaN</td>\n",
       "      <td>NaN</td>\n",
       "      <td>NaN</td>\n",
       "    </tr>\n",
       "    <tr>\n",
       "      <th>2</th>\n",
       "      <td>Q01N_Q_mta_new_york_city_transit</td>\n",
       "      <td>-74.000460</td>\n",
       "      <td>40.718383</td>\n",
       "      <td>mta_new_york_city_transit</td>\n",
       "      <td>1.0</td>\n",
       "      <td>Q01N</td>\n",
       "      <td>Canal St</td>\n",
       "      <td>Q01</td>\n",
       "      <td>NaN</td>\n",
       "      <td>NaN</td>\n",
       "      <td>0.0</td>\n",
       "      <td>transit</td>\n",
       "      <td>POINT (-74.00046 40.718383)</td>\n",
       "      <td>NaN</td>\n",
       "      <td>NaN</td>\n",
       "      <td>NaN</td>\n",
       "    </tr>\n",
       "    <tr>\n",
       "      <th>3</th>\n",
       "      <td>249S_2_mta_new_york_city_transit</td>\n",
       "      <td>-73.942161</td>\n",
       "      <td>40.669399</td>\n",
       "      <td>mta_new_york_city_transit</td>\n",
       "      <td>1.0</td>\n",
       "      <td>249S</td>\n",
       "      <td>Kingston Av</td>\n",
       "      <td>249</td>\n",
       "      <td>NaN</td>\n",
       "      <td>NaN</td>\n",
       "      <td>0.0</td>\n",
       "      <td>transit</td>\n",
       "      <td>POINT (-73.942161 40.669399)</td>\n",
       "      <td>NaN</td>\n",
       "      <td>NaN</td>\n",
       "      <td>NaN</td>\n",
       "    </tr>\n",
       "    <tr>\n",
       "      <th>4</th>\n",
       "      <td>D13S_B_mta_new_york_city_transit</td>\n",
       "      <td>-73.944216</td>\n",
       "      <td>40.824783</td>\n",
       "      <td>mta_new_york_city_transit</td>\n",
       "      <td>1.0</td>\n",
       "      <td>D13S</td>\n",
       "      <td>145 St</td>\n",
       "      <td>D13</td>\n",
       "      <td>NaN</td>\n",
       "      <td>NaN</td>\n",
       "      <td>0.0</td>\n",
       "      <td>transit</td>\n",
       "      <td>POINT (-73.944216 40.824783)</td>\n",
       "      <td>NaN</td>\n",
       "      <td>NaN</td>\n",
       "      <td>NaN</td>\n",
       "    </tr>\n",
       "    <tr>\n",
       "      <th>5</th>\n",
       "      <td>635S_4_mta_new_york_city_transit</td>\n",
       "      <td>-73.989951</td>\n",
       "      <td>40.734673</td>\n",
       "      <td>mta_new_york_city_transit</td>\n",
       "      <td>1.0</td>\n",
       "      <td>635S</td>\n",
       "      <td>14 St-Union Sq</td>\n",
       "      <td>635</td>\n",
       "      <td>NaN</td>\n",
       "      <td>NaN</td>\n",
       "      <td>0.0</td>\n",
       "      <td>transit</td>\n",
       "      <td>POINT (-73.989951 40.734673)</td>\n",
       "      <td>NaN</td>\n",
       "      <td>NaN</td>\n",
       "      <td>NaN</td>\n",
       "    </tr>\n",
       "  </tbody>\n",
       "</table>\n",
       "</div>"
      ],
      "text/plain": [
       "                                      id          x          y  \\\n",
       "id_int                                                           \n",
       "1       N05N_Q_mta_new_york_city_transit -73.990414  40.620671   \n",
       "2       Q01N_Q_mta_new_york_city_transit -74.000460  40.718383   \n",
       "3       249S_2_mta_new_york_city_transit -73.942161  40.669399   \n",
       "4       D13S_B_mta_new_york_city_transit -73.944216  40.824783   \n",
       "5       635S_4_mta_new_york_city_transit -73.989951  40.734673   \n",
       "\n",
       "                 unique_agency_id  route_type stop_id       stop_name  \\\n",
       "id_int                                                                  \n",
       "1       mta_new_york_city_transit         1.0    N05N           18 Av   \n",
       "2       mta_new_york_city_transit         1.0    Q01N        Canal St   \n",
       "3       mta_new_york_city_transit         1.0    249S     Kingston Av   \n",
       "4       mta_new_york_city_transit         1.0    D13S          145 St   \n",
       "5       mta_new_york_city_transit         1.0    635S  14 St-Union Sq   \n",
       "\n",
       "       parent_station  stop_code  zone_id  location_type net_type  \\\n",
       "id_int                                                              \n",
       "1                 N05        NaN      NaN            0.0  transit   \n",
       "2                 Q01        NaN      NaN            0.0  transit   \n",
       "3                 249        NaN      NaN            0.0  transit   \n",
       "4                 D13        NaN      NaN            0.0  transit   \n",
       "5                 635        NaN      NaN            0.0  transit   \n",
       "\n",
       "                            geometry  street_count highway  ref  \n",
       "id_int                                                           \n",
       "1       POINT (-73.990414 40.620671)           NaN     NaN  NaN  \n",
       "2        POINT (-74.00046 40.718383)           NaN     NaN  NaN  \n",
       "3       POINT (-73.942161 40.669399)           NaN     NaN  NaN  \n",
       "4       POINT (-73.944216 40.824783)           NaN     NaN  NaN  \n",
       "5       POINT (-73.989951 40.734673)           NaN     NaN  NaN  "
      ]
     },
     "metadata": {},
     "output_type": "display_data"
    },
    {
     "data": {
      "text/html": [
       "<div>\n",
       "<style scoped>\n",
       "    .dataframe tbody tr th:only-of-type {\n",
       "        vertical-align: middle;\n",
       "    }\n",
       "\n",
       "    .dataframe tbody tr th {\n",
       "        vertical-align: top;\n",
       "    }\n",
       "\n",
       "    .dataframe thead th {\n",
       "        text-align: right;\n",
       "    }\n",
       "</style>\n",
       "<table border=\"1\" class=\"dataframe\">\n",
       "  <thead>\n",
       "    <tr style=\"text-align: right;\">\n",
       "      <th></th>\n",
       "      <th>from</th>\n",
       "      <th>to</th>\n",
       "      <th>unique_agency_id</th>\n",
       "      <th>route_type</th>\n",
       "      <th>net_type</th>\n",
       "      <th>total_trips</th>\n",
       "      <th>weight</th>\n",
       "      <th>geometry</th>\n",
       "      <th>key</th>\n",
       "      <th>edge_id</th>\n",
       "      <th>...</th>\n",
       "      <th>service</th>\n",
       "      <th>access</th>\n",
       "      <th>width</th>\n",
       "      <th>bridge</th>\n",
       "      <th>junction</th>\n",
       "      <th>tunnel</th>\n",
       "      <th>est_width</th>\n",
       "      <th>area</th>\n",
       "      <th>from_int</th>\n",
       "      <th>to_int</th>\n",
       "    </tr>\n",
       "  </thead>\n",
       "  <tbody>\n",
       "    <tr>\n",
       "      <th>0</th>\n",
       "      <td>101S_1_mta_new_york_city_transit</td>\n",
       "      <td>103S_1_mta_new_york_city_transit</td>\n",
       "      <td>mta_new_york_city_transit</td>\n",
       "      <td>1</td>\n",
       "      <td>transit</td>\n",
       "      <td>175.0</td>\n",
       "      <td>1.528571</td>\n",
       "      <td>LINESTRING (-73.898583 40.889248, -73.90087 40...</td>\n",
       "      <td>NaN</td>\n",
       "      <td>NaN</td>\n",
       "      <td>...</td>\n",
       "      <td>NaN</td>\n",
       "      <td>NaN</td>\n",
       "      <td>NaN</td>\n",
       "      <td>NaN</td>\n",
       "      <td>NaN</td>\n",
       "      <td>NaN</td>\n",
       "      <td>NaN</td>\n",
       "      <td>NaN</td>\n",
       "      <td>1307</td>\n",
       "      <td>1524</td>\n",
       "    </tr>\n",
       "    <tr>\n",
       "      <th>1</th>\n",
       "      <td>103N_1_mta_new_york_city_transit</td>\n",
       "      <td>101N_1_mta_new_york_city_transit</td>\n",
       "      <td>mta_new_york_city_transit</td>\n",
       "      <td>1</td>\n",
       "      <td>transit</td>\n",
       "      <td>177.0</td>\n",
       "      <td>1.500000</td>\n",
       "      <td>LINESTRING (-73.90087 40.884667, -73.898583 40...</td>\n",
       "      <td>NaN</td>\n",
       "      <td>NaN</td>\n",
       "      <td>...</td>\n",
       "      <td>NaN</td>\n",
       "      <td>NaN</td>\n",
       "      <td>NaN</td>\n",
       "      <td>NaN</td>\n",
       "      <td>NaN</td>\n",
       "      <td>NaN</td>\n",
       "      <td>NaN</td>\n",
       "      <td>NaN</td>\n",
       "      <td>902</td>\n",
       "      <td>1882</td>\n",
       "    </tr>\n",
       "    <tr>\n",
       "      <th>2</th>\n",
       "      <td>103S_1_mta_new_york_city_transit</td>\n",
       "      <td>104S_1_mta_new_york_city_transit</td>\n",
       "      <td>mta_new_york_city_transit</td>\n",
       "      <td>1</td>\n",
       "      <td>transit</td>\n",
       "      <td>191.0</td>\n",
       "      <td>1.500000</td>\n",
       "      <td>LINESTRING (-73.90087 40.884667, -73.904834 40...</td>\n",
       "      <td>NaN</td>\n",
       "      <td>NaN</td>\n",
       "      <td>...</td>\n",
       "      <td>NaN</td>\n",
       "      <td>NaN</td>\n",
       "      <td>NaN</td>\n",
       "      <td>NaN</td>\n",
       "      <td>NaN</td>\n",
       "      <td>NaN</td>\n",
       "      <td>NaN</td>\n",
       "      <td>NaN</td>\n",
       "      <td>1524</td>\n",
       "      <td>221</td>\n",
       "    </tr>\n",
       "    <tr>\n",
       "      <th>3</th>\n",
       "      <td>104N_1_mta_new_york_city_transit</td>\n",
       "      <td>103N_1_mta_new_york_city_transit</td>\n",
       "      <td>mta_new_york_city_transit</td>\n",
       "      <td>1</td>\n",
       "      <td>transit</td>\n",
       "      <td>177.0</td>\n",
       "      <td>2.652542</td>\n",
       "      <td>LINESTRING (-73.904834 40.878856, -73.90087 40...</td>\n",
       "      <td>NaN</td>\n",
       "      <td>NaN</td>\n",
       "      <td>...</td>\n",
       "      <td>NaN</td>\n",
       "      <td>NaN</td>\n",
       "      <td>NaN</td>\n",
       "      <td>NaN</td>\n",
       "      <td>NaN</td>\n",
       "      <td>NaN</td>\n",
       "      <td>NaN</td>\n",
       "      <td>NaN</td>\n",
       "      <td>141</td>\n",
       "      <td>902</td>\n",
       "    </tr>\n",
       "    <tr>\n",
       "      <th>4</th>\n",
       "      <td>104S_1_mta_new_york_city_transit</td>\n",
       "      <td>106S_1_mta_new_york_city_transit</td>\n",
       "      <td>mta_new_york_city_transit</td>\n",
       "      <td>1</td>\n",
       "      <td>transit</td>\n",
       "      <td>191.0</td>\n",
       "      <td>1.500000</td>\n",
       "      <td>LINESTRING (-73.904834 40.878856, -73.909831 4...</td>\n",
       "      <td>NaN</td>\n",
       "      <td>NaN</td>\n",
       "      <td>...</td>\n",
       "      <td>NaN</td>\n",
       "      <td>NaN</td>\n",
       "      <td>NaN</td>\n",
       "      <td>NaN</td>\n",
       "      <td>NaN</td>\n",
       "      <td>NaN</td>\n",
       "      <td>NaN</td>\n",
       "      <td>NaN</td>\n",
       "      <td>221</td>\n",
       "      <td>861</td>\n",
       "    </tr>\n",
       "  </tbody>\n",
       "</table>\n",
       "<p>5 rows × 27 columns</p>\n",
       "</div>"
      ],
      "text/plain": [
       "                               from                                to  \\\n",
       "0  101S_1_mta_new_york_city_transit  103S_1_mta_new_york_city_transit   \n",
       "1  103N_1_mta_new_york_city_transit  101N_1_mta_new_york_city_transit   \n",
       "2  103S_1_mta_new_york_city_transit  104S_1_mta_new_york_city_transit   \n",
       "3  104N_1_mta_new_york_city_transit  103N_1_mta_new_york_city_transit   \n",
       "4  104S_1_mta_new_york_city_transit  106S_1_mta_new_york_city_transit   \n",
       "\n",
       "            unique_agency_id route_type net_type  total_trips    weight  \\\n",
       "0  mta_new_york_city_transit          1  transit        175.0  1.528571   \n",
       "1  mta_new_york_city_transit          1  transit        177.0  1.500000   \n",
       "2  mta_new_york_city_transit          1  transit        191.0  1.500000   \n",
       "3  mta_new_york_city_transit          1  transit        177.0  2.652542   \n",
       "4  mta_new_york_city_transit          1  transit        191.0  1.500000   \n",
       "\n",
       "                                            geometry  key  edge_id  ...  \\\n",
       "0  LINESTRING (-73.898583 40.889248, -73.90087 40...  NaN      NaN  ...   \n",
       "1  LINESTRING (-73.90087 40.884667, -73.898583 40...  NaN      NaN  ...   \n",
       "2  LINESTRING (-73.90087 40.884667, -73.904834 40...  NaN      NaN  ...   \n",
       "3  LINESTRING (-73.904834 40.878856, -73.90087 40...  NaN      NaN  ...   \n",
       "4  LINESTRING (-73.904834 40.878856, -73.909831 4...  NaN      NaN  ...   \n",
       "\n",
       "  service access width bridge junction tunnel est_width area from_int to_int  \n",
       "0     NaN    NaN   NaN    NaN      NaN    NaN       NaN  NaN     1307   1524  \n",
       "1     NaN    NaN   NaN    NaN      NaN    NaN       NaN  NaN      902   1882  \n",
       "2     NaN    NaN   NaN    NaN      NaN    NaN       NaN  NaN     1524    221  \n",
       "3     NaN    NaN   NaN    NaN      NaN    NaN       NaN  NaN      141    902  \n",
       "4     NaN    NaN   NaN    NaN      NaN    NaN       NaN  NaN      221    861  \n",
       "\n",
       "[5 rows x 27 columns]"
      ]
     },
     "execution_count": 5,
     "metadata": {},
     "output_type": "execute_result"
    }
   ],
   "source": [
    "display(df_n.head())\n",
    "df_e.head()"
   ]
  },
  {
   "cell_type": "code",
   "execution_count": 9,
   "id": "9a0b53e3-45f3-40b4-a0c7-53c13bd1f829",
   "metadata": {},
   "outputs": [
    {
     "data": {
      "text/plain": [
       "<bound method NDFrame.astype of id_int\n",
       "1           POINT (-73.990414 40.620671)\n",
       "2            POINT (-74.00046 40.718383)\n",
       "3           POINT (-73.942161 40.669399)\n",
       "4           POINT (-73.944216 40.824783)\n",
       "5           POINT (-73.989951 40.734673)\n",
       "                       ...              \n",
       "617993    POINT (-74.2172367 40.5209405)\n",
       "617994    POINT (-74.2149017 40.5213643)\n",
       "617995    POINT (-74.2145543 40.5213974)\n",
       "617996    POINT (-74.2146434 40.5213889)\n",
       "617997     POINT (-74.214722 40.5222953)\n",
       "Name: geometry, Length: 617997, dtype: object>"
      ]
     },
     "execution_count": 9,
     "metadata": {},
     "output_type": "execute_result"
    }
   ],
   "source": [
    "df_n['geometry'].astype"
   ]
  },
  {
   "cell_type": "markdown",
   "id": "abdf9f60-2f6a-4fb7-8275-5485edda348a",
   "metadata": {},
   "source": [
    "## convert geometry columns"
   ]
  },
  {
   "cell_type": "code",
   "execution_count": 10,
   "id": "4dfff6a6-7f12-488d-af9b-231c07ad1620",
   "metadata": {
    "tags": []
   },
   "outputs": [],
   "source": [
    "df_n['geometry'] = gpd.GeoSeries.from_wkt(df_n['geometry'])\n",
    "df_e['geometry'] = gpd.GeoSeries.from_wkt(df_e['geometry'])"
   ]
  },
  {
   "cell_type": "markdown",
   "id": "ed324f01-2f3a-4098-bc4e-f5e0dd263e52",
   "metadata": {},
   "source": [
    "took about 5 mins. see: https://geopandas.org/en/latest/gallery/create_geopandas_from_pandas.html"
   ]
  },
  {
   "cell_type": "code",
   "execution_count": 11,
   "id": "9699684e-bf2d-4f42-8fd0-3f0c50787beb",
   "metadata": {},
   "outputs": [
    {
     "data": {
      "text/plain": [
       "<bound method NDFrame.astype of id_int\n",
       "1         POINT (-73.99041 40.62067)\n",
       "2         POINT (-74.00046 40.71838)\n",
       "3         POINT (-73.94216 40.66940)\n",
       "4         POINT (-73.94422 40.82478)\n",
       "5         POINT (-73.98995 40.73467)\n",
       "                     ...            \n",
       "617993    POINT (-74.21724 40.52094)\n",
       "617994    POINT (-74.21490 40.52136)\n",
       "617995    POINT (-74.21455 40.52140)\n",
       "617996    POINT (-74.21464 40.52139)\n",
       "617997    POINT (-74.21472 40.52230)\n",
       "Name: geometry, Length: 617997, dtype: geometry>"
      ]
     },
     "execution_count": 11,
     "metadata": {},
     "output_type": "execute_result"
    }
   ],
   "source": [
    "df_n['geometry'].astype"
   ]
  },
  {
   "cell_type": "markdown",
   "id": "22e8ae01-f020-4443-95c7-cf5d1f79fd9b",
   "metadata": {},
   "source": [
    "# geodataframe"
   ]
  },
  {
   "cell_type": "code",
   "execution_count": 12,
   "id": "9b57749b-235c-4d6b-85c9-9e24435ba6df",
   "metadata": {},
   "outputs": [],
   "source": [
    "gdf_n = gpd.GeoDataFrame(df_n, crs='epsg:4326', geometry='geometry')\n",
    "gdf_e = gpd.GeoDataFrame(df_e, crs='epsg:4326', geometry='geometry')"
   ]
  },
  {
   "cell_type": "code",
   "execution_count": 13,
   "id": "ed598d86-f901-4273-bfab-1df46b52839b",
   "metadata": {},
   "outputs": [
    {
     "name": "stdout",
     "output_type": "stream",
     "text": [
      "Figure created. Took 221.87 seconds\n"
     ]
    },
    {
     "data": {
      "image/png": "[encoded data removed]",
      "text/plain": [
       "<Figure size 575.199x432 with 1 Axes>"
      ]
     },
     "metadata": {
      "needs_background": "light"
     },
     "output_type": "display_data"
    },
    {
     "data": {
      "text/plain": [
       "(<Figure size 575.199x432 with 1 Axes>, <AxesSubplot:>)"
      ]
     },
     "execution_count": 13,
     "metadata": {},
     "output_type": "execute_result"
    }
   ],
   "source": [
    "ua.plot_net(df_n, df_e)"
   ]
  },
  {
   "cell_type": "markdown",
   "id": "65592b67-9b17-4b71-8152-904305d78912",
   "metadata": {},
   "source": [
    "## save walk/subway network to gpkg"
   ]
  },
  {
   "cell_type": "code",
   "execution_count": 14,
   "id": "6445e50c-c015-425f-b8a3-0f80ec5d0cf3",
   "metadata": {},
   "outputs": [],
   "source": [
    "gdf_n.to_file(path + \"nyc-walk-subway.gpkg\", layer='nodes', driver=\"GPKG\")\n",
    "gdf_e.to_file(path + \"nyc-walk-subway.gpkg\", layer='edges', driver=\"GPKG\")"
   ]
  },
  {
   "cell_type": "markdown",
   "id": "6908771a-8288-48cd-bddc-9c31eba2ae3a",
   "metadata": {},
   "source": [
    "takes about 30 mins to export as gpkg"
   ]
  },
  {
   "cell_type": "markdown",
   "id": "6370dfdd-8226-4164-be77-90ad291780b7",
   "metadata": {},
   "source": [
    "# networkx graph"
   ]
  },
  {
   "cell_type": "code",
   "execution_count": null,
   "id": "514b4a38-e0ff-4bc2-a664-7c4a26ae1262",
   "metadata": {},
   "outputs": [],
   "source": [
    "G = nx.MultiDiGraph("
   ]
  }
 ],
 "metadata": {
  "kernelspec": {
   "display_name": "housing-nyc",
   "language": "python",
   "name": "housing-nyc"
  },
  "language_info": {
   "codemirror_mode": {
    "name": "ipython",
    "version": 3
   },
   "file_extension": ".py",
   "mimetype": "text/x-python",
   "name": "python",
   "nbconvert_exporter": "python",
   "pygments_lexer": "ipython3",
   "version": "3.8.6"
  }
 },
 "nbformat": 4,
 "nbformat_minor": 5
}
